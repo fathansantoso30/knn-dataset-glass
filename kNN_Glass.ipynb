{
  "nbformat": 4,
  "nbformat_minor": 0,
  "metadata": {
    "colab": {
      "name": "kNN Glass",
      "provenance": [],
      "collapsed_sections": [
        "3_aLeYQivsXv",
        "lCDdaSDhudtF",
        "9jEaOWt5uwRF",
        "uEdzgyOqu-aU",
        "vXF2BpeHvPIN"
      ]
    },
    "kernelspec": {
      "name": "python3",
      "display_name": "Python 3"
    },
    "language_info": {
      "name": "python"
    }
  },
  "cells": [
    {
      "cell_type": "markdown",
      "metadata": {
        "id": "3_aLeYQivsXv"
      },
      "source": [
        "# Libraries"
      ]
    },
    {
      "cell_type": "code",
      "metadata": {
        "id": "rrnKCMzqimux"
      },
      "source": [
        "import re\n",
        "import math\n",
        "import numpy as np\n",
        "import pandas as pd\n",
        "import string\n",
        "import scipy as sp\n",
        "import nltk\n",
        "import time\n",
        "import operator\n",
        "from random import randrange\n",
        "\n",
        "import warnings\n",
        "warnings.filterwarnings('ignore')"
      ],
      "execution_count": null,
      "outputs": []
    },
    {
      "cell_type": "markdown",
      "metadata": {
        "id": "zGN484zVvyq1"
      },
      "source": [
        "# Steps"
      ]
    },
    {
      "cell_type": "markdown",
      "metadata": {
        "id": "lCDdaSDhudtF"
      },
      "source": [
        "## Calculating Distance"
      ]
    },
    {
      "cell_type": "code",
      "metadata": {
        "id": "LjbBeBK3izg1"
      },
      "source": [
        "class distanceMetrics:\n",
        "    '''\n",
        "    Description:\n",
        "        This class contains methods to calculate various distance metrics\n",
        "    '''\n",
        "    def __init__(self):\n",
        "        '''\n",
        "        Description:\n",
        "            Initialization/Constructor function\n",
        "        '''\n",
        "        pass\n",
        "        \n",
        "    def euclideanDistance(self, vector1, vector2):\n",
        "        '''\n",
        "        Description:\n",
        "            Function to calculate Euclidean Distance\n",
        "                \n",
        "        Inputs:\n",
        "            vector1, vector2: input vectors for which the distance is to be calculated\n",
        "        Output:\n",
        "            Calculated euclidean distance of two vectors\n",
        "        '''\n",
        "        self.vectorA, self.vectorB = vector1, vector2\n",
        "        if len(self.vectorA) != len(self.vectorB):\n",
        "            raise ValueError(\"Undefined for sequences of unequal length.\")\n",
        "        distance = 0.0\n",
        "        for i in range(len(self.vectorA)-1):\n",
        "            distance += (self.vectorA[i] - self.vectorB[i])**2\n",
        "        return (distance)**0.5\n",
        "    \n",
        "    def manhattanDistance(self, vector1, vector2):\n",
        "        \"\"\"\n",
        "        Desription:\n",
        "            Takes 2 vectors a, b and returns the manhattan distance\n",
        "        Inputs:\n",
        "            vector1, vector2: two vectors for which the distance is to be calculated\n",
        "        Output:\n",
        "            Manhattan Distance of two input vectors\n",
        "        \"\"\"\n",
        "        self.vectorA, self.vectorB = vector1, vector2\n",
        "        if len(self.vectorA) != len(self.vectorB):\n",
        "            raise ValueError(\"Undefined for sequences of unequal length.\")\n",
        "        return np.abs(np.array(self.vectorA) - np.array(self.vectorB)).sum()\n",
        "    \n",
        "    def hammingDistance(self, vector1, vector2):\n",
        "        \"\"\"\n",
        "        Desription:\n",
        "            Takes 2 vectors a, b and returns the hamming distance\n",
        "            Hamming distance is meant for discrete-valued vectors, though it is a \n",
        "            valid metric for real-valued vectors.\n",
        "        Inputs:\n",
        "            vector1, vector2: two vectors for which the distance is to be calculated\n",
        "        Output:\n",
        "           Hamming Distance of two input vectors \n",
        "        \"\"\"\n",
        "        self.vectorA, self.vectorB = vector1, vector2\n",
        "        if len(self.vectorA) != len(self.vectorB):\n",
        "            raise ValueError(\"Undefined for sequences of unequal length.\")\n",
        "        return sum(el1 != el2 for el1, el2 in zip(self.vectorA, self.vectorB))"
      ],
      "execution_count": null,
      "outputs": []
    },
    {
      "cell_type": "markdown",
      "metadata": {
        "id": "9jEaOWt5uwRF"
      },
      "source": [
        "## Build kNN Model"
      ]
    },
    {
      "cell_type": "code",
      "metadata": {
        "id": "K1ciC64qi3jy"
      },
      "source": [
        "class kNNClassifier:\n",
        "    '''\n",
        "    Description:\n",
        "        This class contains the functions to calculate distances\n",
        "    '''\n",
        "    def __init__(self,k = 3, distanceMetric = 'euclidean'):\n",
        "        '''\n",
        "        Description:\n",
        "            KNearestNeighbors constructor\n",
        "        Input    \n",
        "            k: total of neighbors. Defaulted to 3\n",
        "            distanceMetric: type of distance metric to be used. Defaulted to euclidean distance.\n",
        "        '''\n",
        "        pass\n",
        "    \n",
        "    def fit(self, xTrain, yTrain):\n",
        "        '''\n",
        "        Description:\n",
        "            Train kNN model with x data\n",
        "        Input:\n",
        "            xTrain: training data with coordinates\n",
        "            yTrain: labels of training data set\n",
        "        Output:\n",
        "            None\n",
        "        '''\n",
        "        assert len(xTrain) == len(yTrain)\n",
        "        self.trainData = xTrain\n",
        "        self.trainLabels = yTrain\n",
        "\n",
        "    def getNeighbors(self, testRow):\n",
        "        '''\n",
        "        Description:\n",
        "            Train kNN model with x data\n",
        "        Input:\n",
        "            testRow: testing data with coordinates\n",
        "        Output:\n",
        "            k-nearest neighbors to the test data\n",
        "        '''\n",
        "        \n",
        "        calcDM = distanceMetrics()\n",
        "        distances = []\n",
        "        for i, trainRow in enumerate(self.trainData):\n",
        "            if self.distanceMetric == 'euclidean':\n",
        "                distances.append([trainRow, calcDM.euclideanDistance(testRow, trainRow), self.trainLabels[i]])\n",
        "            elif self.distanceMetric == 'manhattan':\n",
        "                distances.append([trainRow, calcDM.manhattanDistance(testRow, trainRow), self.trainLabels[i]])\n",
        "            elif self.distanceMetric == 'hamming':\n",
        "                distances.append([trainRow, calcDM.hammingDistance(testRow, trainRow), self.trainLabels[i]])\n",
        "            distances.sort(key=operator.itemgetter(1))\n",
        "\n",
        "        neighbors = []\n",
        "        for index in range(self.k):\n",
        "            neighbors.append(distances[index])\n",
        "        return neighbors\n",
        "        \n",
        "    def predict(self, xTest, k, distanceMetric):\n",
        "        '''\n",
        "        Description:\n",
        "            Apply kNN model on test data\n",
        "        Input:\n",
        "            xTest: testing data with coordinates\n",
        "            k: number of neighbors\n",
        "            distanceMetric: technique to calculate distance metric\n",
        "        Output:\n",
        "            predicted label \n",
        "        '''\n",
        "        self.testData = xTest\n",
        "        self.k = k\n",
        "        self.distanceMetric = distanceMetric\n",
        "        predictions = []\n",
        "        \n",
        "        for i, testCase in enumerate(self.testData):\n",
        "            neighbors = self.getNeighbors(testCase)\n",
        "            output= [row[-1] for row in neighbors]\n",
        "            prediction = max(set(output), key=output.count)\n",
        "            predictions.append(prediction)\n",
        "        \n",
        "        return predictions"
      ],
      "execution_count": null,
      "outputs": []
    },
    {
      "cell_type": "markdown",
      "metadata": {
        "id": "uEdzgyOqu-aU"
      },
      "source": [
        "## Calculates the accuracy of predictions"
      ]
    },
    {
      "cell_type": "code",
      "metadata": {
        "id": "PUsysAzNi_Pi"
      },
      "source": [
        "def printMetrics(actual, predictions):\n",
        "    '''\n",
        "    Description:\n",
        "        This method calculates the accuracy of predictions\n",
        "    '''\n",
        "    assert len(actual) == len(predictions)\n",
        "    correct = 0\n",
        "    for i in range(len(actual)):\n",
        "        if actual[i] == predictions[i]:\n",
        "            correct += 1\n",
        "    return (correct / float(len(actual)) * 100.0)"
      ],
      "execution_count": null,
      "outputs": []
    },
    {
      "cell_type": "markdown",
      "metadata": {
        "id": "vXF2BpeHvPIN"
      },
      "source": [
        "## Perform k-Fold Cross validation"
      ]
    },
    {
      "cell_type": "code",
      "metadata": {
        "id": "DNlZlTR8jEL7"
      },
      "source": [
        "class kFoldCV:\n",
        "    '''\n",
        "    This class is to perform k-Fold Cross validation on a given dataset\n",
        "    '''\n",
        "    def __init__(self):\n",
        "        pass\n",
        "    \n",
        "    def crossValSplit(self, dataset, numFolds):\n",
        "        '''\n",
        "        Description:\n",
        "            Function to split the data into number of folds specified\n",
        "        Input:\n",
        "            dataset: data that is to be split\n",
        "            numFolds: integer - number of folds into which the data is to be split\n",
        "        Output:\n",
        "            split data\n",
        "        '''\n",
        "        dataSplit = list()\n",
        "        dataCopy = list(dataset)\n",
        "        foldSize = int(len(dataset) / numFolds)\n",
        "        for _ in range(numFolds):\n",
        "            fold = list()\n",
        "            while len(fold) < foldSize:\n",
        "                index = randrange(len(dataCopy))\n",
        "                fold.append(dataCopy.pop(index))\n",
        "            dataSplit.append(fold)\n",
        "        return dataSplit\n",
        "    \n",
        "    \n",
        "    def kFCVEvaluate(self, dataset, numFolds, *args):\n",
        "        '''\n",
        "        Description:\n",
        "            Driver function for k-Fold cross validation \n",
        "        '''\n",
        "        knn = kNNClassifier()\n",
        "        folds = self.crossValSplit(dataset, numFolds)\n",
        "        scores = list()\n",
        "        for fold in folds:\n",
        "            trainSet = list(folds)\n",
        "            trainSet.remove(fold)\n",
        "            trainSet = sum(trainSet, [])\n",
        "            testSet = list()\n",
        "            for row in fold:\n",
        "                rowCopy = list(row)\n",
        "                testSet.append(rowCopy)\n",
        "                \n",
        "            trainLabels = [row[-1] for row in trainSet]\n",
        "            trainSet = [train[:-1] for train in trainSet]\n",
        "            knn.fit(trainSet,trainLabels)\n",
        "            \n",
        "            actual = [row[-1] for row in testSet]\n",
        "            testSet = [test[:-1] for test in testSet]\n",
        "            \n",
        "            predicted = knn.predict(testSet, *args)\n",
        "            \n",
        "            accuracy = printMetrics(actual, predicted)\n",
        "            scores.append(accuracy)\n",
        "\n",
        "        print('*'*20)\n",
        "        print('Scores: %s' % scores)\n",
        "        print('*'*20)        \n",
        "        print('\\nMaximum Accuracy: %3f%%' % max(scores))\n",
        "        print('\\nMean Accuracy: %.3f%%' % (sum(scores)/float(len(scores))))"
      ],
      "execution_count": null,
      "outputs": []
    },
    {
      "cell_type": "markdown",
      "metadata": {
        "id": "-yXrxFwMvk_m"
      },
      "source": [
        "# Result"
      ]
    },
    {
      "cell_type": "markdown",
      "metadata": {
        "id": "9GCrKxvzLECt"
      },
      "source": [
        "## Without kFold"
      ]
    },
    {
      "cell_type": "code",
      "metadata": {
        "id": "ZxFMJJdLqFT1",
        "colab": {
          "base_uri": "https://localhost:8080/",
          "height": 247
        },
        "outputId": "80b3aed4-3756-4ce9-83db-c66699cd8415"
      },
      "source": [
        "df = pd.read_csv('glass.csv')\n",
        "# Seperate X and y data\n",
        "data = df.drop('Type', axis=1)\n",
        "trainFeatures = data\n",
        "trainLabels = df.Type\n",
        "colom = data.columns\n",
        "df"
      ],
      "execution_count": null,
      "outputs": [
        {
          "output_type": "error",
          "ename": "NameError",
          "evalue": "ignored",
          "traceback": [
            "\u001b[0;31m---------------------------------------------------------------------------\u001b[0m",
            "\u001b[0;31mNameError\u001b[0m                                 Traceback (most recent call last)",
            "\u001b[0;32m<ipython-input-1-ea592b5729b4>\u001b[0m in \u001b[0;36m<module>\u001b[0;34m()\u001b[0m\n\u001b[0;32m----> 1\u001b[0;31m \u001b[0mdf\u001b[0m \u001b[0;34m=\u001b[0m \u001b[0mpd\u001b[0m\u001b[0;34m.\u001b[0m\u001b[0mread_csv\u001b[0m\u001b[0;34m(\u001b[0m\u001b[0;34m'glass.csv'\u001b[0m\u001b[0;34m)\u001b[0m\u001b[0;34m\u001b[0m\u001b[0;34m\u001b[0m\u001b[0m\n\u001b[0m\u001b[1;32m      2\u001b[0m \u001b[0;31m# Seperate X and y data\u001b[0m\u001b[0;34m\u001b[0m\u001b[0;34m\u001b[0m\u001b[0;34m\u001b[0m\u001b[0m\n\u001b[1;32m      3\u001b[0m \u001b[0mdata\u001b[0m \u001b[0;34m=\u001b[0m \u001b[0mdf\u001b[0m\u001b[0;34m.\u001b[0m\u001b[0mdrop\u001b[0m\u001b[0;34m(\u001b[0m\u001b[0;34m'Type'\u001b[0m\u001b[0;34m,\u001b[0m \u001b[0maxis\u001b[0m\u001b[0;34m=\u001b[0m\u001b[0;36m1\u001b[0m\u001b[0;34m)\u001b[0m\u001b[0;34m\u001b[0m\u001b[0;34m\u001b[0m\u001b[0m\n\u001b[1;32m      4\u001b[0m \u001b[0mtrainFeatures\u001b[0m \u001b[0;34m=\u001b[0m \u001b[0mdata\u001b[0m\u001b[0;34m\u001b[0m\u001b[0;34m\u001b[0m\u001b[0m\n\u001b[1;32m      5\u001b[0m \u001b[0mtrainLabels\u001b[0m \u001b[0;34m=\u001b[0m \u001b[0mdf\u001b[0m\u001b[0;34m.\u001b[0m\u001b[0mType\u001b[0m\u001b[0;34m\u001b[0m\u001b[0;34m\u001b[0m\u001b[0m\n",
            "\u001b[0;31mNameError\u001b[0m: name 'pd' is not defined"
          ]
        }
      ]
    },
    {
      "cell_type": "code",
      "metadata": {
        "id": "ueE0KXWzC9PO"
      },
      "source": [
        "cxTrain = trainFeatures.sample(frac=0.8, random_state=25)\n",
        "cxTest = trainFeatures.drop(cxTrain.index)\n",
        "cyTrain = trainLabels.sample(frac=0.8, random_state=25)\n",
        "cyTest = trainLabels.drop(cxTrain.index)\n",
        "\n",
        "print(f\"No. of training examples: {cxTrain.shape[0]}\")\n",
        "print(f\"No. of testing examples: {cxTest.shape[0]}\")\n",
        "print(f\"No. of training examples: {cyTrain.shape[0]}\")\n",
        "print(f\"No. of testing examples: {cyTest.shape[0]}\")\n",
        "cxTrain = cxTrain.values.tolist()\n",
        "cxTest = cxTest.values.tolist()\n",
        "cyTrain = cyTrain.tolist()\n",
        "cyTest = cyTest.tolist()"
      ],
      "execution_count": null,
      "outputs": []
    },
    {
      "cell_type": "code",
      "metadata": {
        "id": "dKHKYvF2HLbl"
      },
      "source": [
        "knn = kNNClassifier()\n",
        "knn.fit(cxTrain, cyTrain)"
      ],
      "execution_count": null,
      "outputs": []
    },
    {
      "cell_type": "code",
      "metadata": {
        "id": "aAkQI3lQHMWs"
      },
      "source": [
        "canEucPred = knn.predict(cxTest, 3, 'euclidean')"
      ],
      "execution_count": null,
      "outputs": []
    },
    {
      "cell_type": "code",
      "metadata": {
        "id": "fDDaToXDTAJX"
      },
      "source": [
        "df_hasil = pd.DataFrame(cxTest, columns=colom)\n",
        "df_hasil.insert(loc=9, column='Type', value=cyTest)\n",
        "df_hasil.insert(loc=10, column='Predicted Type', value=canEucPred)\n",
        "df_hasil.head(10)\n"
      ],
      "execution_count": null,
      "outputs": []
    },
    {
      "cell_type": "code",
      "metadata": {
        "id": "foIDGvEkHP3c"
      },
      "source": [
        "acc = printMetrics(canEucPred, cyTest)\n",
        "print('\\nAccuracy: %3f%%' % acc)"
      ],
      "execution_count": null,
      "outputs": []
    },
    {
      "cell_type": "markdown",
      "metadata": {
        "id": "-3D046US7uKc"
      },
      "source": [
        "## With k-Fold Cross Validation"
      ]
    },
    {
      "cell_type": "code",
      "metadata": {
        "id": "3hhGretEO1YJ"
      },
      "source": [
        "df2 = pd.read_csv('glass.csv')\n",
        "# Seperate X and y data\n",
        "data2 = df.drop('Type', axis=1)\n",
        "trainFeatures = data2.values.tolist()\n",
        "trainLabels = df2.Type"
      ],
      "execution_count": null,
      "outputs": []
    },
    {
      "cell_type": "code",
      "metadata": {
        "id": "07n_nBDljrx7"
      },
      "source": [
        "kfcv = kFoldCV()"
      ],
      "execution_count": null,
      "outputs": []
    },
    {
      "cell_type": "code",
      "metadata": {
        "id": "d5bIzFNCjsIj"
      },
      "source": [
        "kfcv.kFCVEvaluate(trainFeatures, 5, 3, 'euclidean')\n"
      ],
      "execution_count": null,
      "outputs": []
    }
  ]
}